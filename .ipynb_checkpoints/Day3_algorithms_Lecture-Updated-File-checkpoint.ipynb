{
 "cells": [
  {
   "cell_type": "markdown",
   "metadata": {},
   "source": [
    "# Algorithms, Binary Search & Linked Lists"
   ]
  },
  {
   "cell_type": "markdown",
   "metadata": {},
   "source": [
    "## Tasks Today:\n",
    " \n",
    "1) <b>In-Place Algorithms</b> <br>\n",
    " &nbsp;&nbsp;&nbsp;&nbsp; a) Syntax <br>\n",
    " &nbsp;&nbsp;&nbsp;&nbsp; a) Out of Place Algorithm <br>\n",
    " &nbsp;&nbsp;&nbsp;&nbsp; b) In-Class Exercise #1 <br>\n",
    "2) <b>Two Pointers</b> <br>\n",
    "3) <b>Linked Lists</b> <br>\n",
    "4) <b>Merge Sort</b> <br>\n",
    " &nbsp;&nbsp;&nbsp;&nbsp; a) Video on Algorithms <br>\n",
    " &nbsp;&nbsp;&nbsp;&nbsp; b) How it Works <br>\n",
    "5) <b>Exercises</b> <br>\n",
    " &nbsp;&nbsp;&nbsp;&nbsp; a) Exercise #1 - Reverse a List in Place Using an In-Place Algorithm <br>\n",
    " &nbsp;&nbsp;&nbsp;&nbsp; b) Exercise #2 - Find Distinct Words <br>\n",
    " &nbsp;&nbsp;&nbsp;&nbsp; c) Exercise #3 - Write a program to implement a Linear Search Algorithm. <br>"
   ]
  },
  {
   "cell_type": "markdown",
   "metadata": {},
   "source": [
    "## In-Place Algorithms"
   ]
  },
  {
   "cell_type": "markdown",
   "metadata": {},
   "source": [
    "#### Syntax"
   ]
  },
  {
   "cell_type": "code",
   "execution_count": 1,
   "metadata": {},
   "outputs": [
    {
     "name": "stdout",
     "output_type": "stream",
     "text": [
      "[20, 4, 10]\n",
      "[10, 4, 20]\n"
     ]
    }
   ],
   "source": [
    "#var[i], var [i + 1] =var[i+1], var[i]\n",
    "#sometimes known as swap algorithm\n",
    "\n",
    "def swap(alist,x,y,z):\n",
    "    alist[x], alist[y], alist[z] = alist[z], alist[y], alist[x]\n",
    "    return alist\n",
    "\n",
    "my_list = [20, 4, 10]\n",
    "print(my_list)\n",
    "\n",
    "swap(my_list, 0, 1, 2)\n",
    "\n",
    "print(my_list)"
   ]
  },
  {
   "cell_type": "markdown",
   "metadata": {},
   "source": [
    "#### Out of Place Algorithm"
   ]
  },
  {
   "cell_type": "code",
   "execution_count": 2,
   "metadata": {},
   "outputs": [
    {
     "data": {
      "text/plain": [
       "[20, 4, 10]"
      ]
     },
     "execution_count": 2,
     "metadata": {},
     "output_type": "execute_result"
    }
   ],
   "source": [
    "# not swapping, but rather reversing completely\n",
    "\n",
    "# BUT also copies to another p;ace in memory\n",
    "\n",
    "my_list[::-1]\n",
    "\n"
   ]
  },
  {
   "cell_type": "markdown",
   "metadata": {},
   "source": [
    "#### In-Class Exercise #1 <br>\n",
    "<p>Write a function that takes in four arguments (list, index1, index2, index3), and swaps those three positions in the list passed in.</p>"
   ]
  },
  {
   "cell_type": "code",
   "execution_count": 6,
   "metadata": {},
   "outputs": [
    {
     "name": "stdout",
     "output_type": "stream",
     "text": [
      "[10, 4, 3, 8, 4, 2, 6]\n",
      "[10, 4, 4, 3, 8, 2, 6]\n"
     ]
    }
   ],
   "source": [
    "l_1 = [10, 4, 3, 8, 4, 2, 6]\n",
    "\n",
    "def swap(l_1,x,y,z):\n",
    "    l_1[x], l_1[y], l_1[z] = l_1[z], l_1[x], l_1[y]\n",
    "    return l_1\n",
    "\n",
    "print(l_1)\n",
    "\n",
    "swap(l_1, 2, 3, 4)\n",
    "\n",
    "print(l_1)\n"
   ]
  },
  {
   "cell_type": "markdown",
   "metadata": {},
   "source": [
    "## Two Pointers"
   ]
  },
  {
   "cell_type": "markdown",
   "metadata": {},
   "source": [
    "#### Syntax"
   ]
  },
  {
   "cell_type": "code",
   "execution_count": 3,
   "metadata": {},
   "outputs": [
    {
     "data": {
      "text/plain": [
       "[22, 11, 4, 8, 9, 12, 3, 2, 1]"
      ]
     },
     "execution_count": 3,
     "metadata": {},
     "output_type": "execute_result"
    }
   ],
   "source": [
    "# alist[left], alist[right] = alist[right],alist[left]\n",
    "\n",
    "#use two pointers to swap, can use a while loop in most cases\n",
    "\n",
    "def twoPointers(alist):\n",
    "    #Create pointers for the list below:\n",
    "    left = 0\n",
    "    right = len(alist) -1\n",
    "    while left <= right:\n",
    "        alist[left], alist[right] = alist[right], alist[left]\n",
    "        left += 1\n",
    "        right -= 1\n",
    "    return alist\n",
    "\n",
    "my_list2 = [1,2,3,12,9,8,4,11,22]\n",
    "twoPointers(my_list2)"
   ]
  },
  {
   "cell_type": "markdown",
   "metadata": {},
   "source": [
    "#### Video of Algorithms <br>\n",
    "<p>Watch the video about algorithms.</p>\n",
    "\n",
    "https://www.youtube.com/watch?v=Q9HjeFD62Uk\n",
    "\n",
    "https://www.youtube.com/watch?v=kPRA0W1kECg\n",
    "\n",
    "https://www.youtube.com/watch?v=ZZuD6iUe3Pc"
   ]
  },
  {
   "cell_type": "markdown",
   "metadata": {},
   "source": [
    "# Sorting Algorithms"
   ]
  },
  {
   "cell_type": "markdown",
   "metadata": {},
   "source": [
    "#### Bubble Sort\n",
    "\n",
    "Worst Case: O(n^2) Time - O(1) Space"
   ]
  },
  {
   "cell_type": "code",
   "execution_count": 4,
   "metadata": {},
   "outputs": [
    {
     "data": {
      "text/plain": [
       "[5, 6, 7, 10, 20, 20, 50]"
      ]
     },
     "execution_count": 4,
     "metadata": {},
     "output_type": "execute_result"
    }
   ],
   "source": [
    "# Best Case: 0(n) - Linear\n",
    "\n",
    "def swap(i,j,array):\n",
    "    array[i], array[j] = array[j],array[i]\n",
    "    \n",
    "def bubbleSort(array):\n",
    "    isSorted = False\n",
    "    while not isSorted:\n",
    "        isSorted = True\n",
    "        for num in range(len(array)-1):\n",
    "            if array[num] > array[num +1]:\n",
    "                swap(num,num + 1,array)\n",
    "                isSorted = False\n",
    "    return array\n",
    "\n",
    "bubbleSort([20,20,50,7,6,5,10])"
   ]
  },
  {
   "cell_type": "markdown",
   "metadata": {},
   "source": [
    "##### Insertion Sort\n",
    "\n",
    "Worst Case: O(n^2) time - O(1)space"
   ]
  },
  {
   "cell_type": "code",
   "execution_count": 9,
   "metadata": {},
   "outputs": [
    {
     "data": {
      "text/plain": [
       "[1, 10, 50, 30, 2]"
      ]
     },
     "execution_count": 9,
     "metadata": {},
     "output_type": "execute_result"
    }
   ],
   "source": [
    "def swap(i,j,array):\n",
    "    array[i],array[j] = array[j], array[i]\n",
    "    \n",
    "def insertionSort(array):\n",
    "    for i in range(1,len(array)):\n",
    "        j = i\n",
    "    while j > 0 and array[j] < array[j-1]:\n",
    "        swap(j,j -1, array)\n",
    "        j -= 1\n",
    "    return array\n",
    "    \n",
    "insertionSort([10,50,30,2,1])"
   ]
  },
  {
   "cell_type": "markdown",
   "metadata": {},
   "source": [
    "## Merge Sort"
   ]
  },
  {
   "cell_type": "markdown",
   "metadata": {},
   "source": [
    "#### How it Works"
   ]
  },
  {
   "cell_type": "code",
   "execution_count": 57,
   "metadata": {},
   "outputs": [
    {
     "name": "stdout",
     "output_type": "stream",
     "text": [
      "Splitting... [19, 7, 3, 2, 20]\n",
      "Splitting... [19, 7]\n",
      "Splitting... [19]\n"
     ]
    },
    {
     "ename": "UnboundLocalError",
     "evalue": "local variable 'i' referenced before assignment",
     "output_type": "error",
     "traceback": [
      "\u001b[0;31m---------------------------------------------------------------------------\u001b[0m",
      "\u001b[0;31mUnboundLocalError\u001b[0m                         Traceback (most recent call last)",
      "\u001b[0;32m<ipython-input-57-1190d57398c8>\u001b[0m in \u001b[0;36m<module>\u001b[0;34m\u001b[0m\n\u001b[1;32m     51\u001b[0m     \u001b[0;32mreturn\u001b[0m \u001b[0malist\u001b[0m\u001b[0;34m\u001b[0m\u001b[0;34m\u001b[0m\u001b[0m\n\u001b[1;32m     52\u001b[0m \u001b[0;34m\u001b[0m\u001b[0m\n\u001b[0;32m---> 53\u001b[0;31m \u001b[0mmergeSort\u001b[0m\u001b[0;34m(\u001b[0m\u001b[0mnums\u001b[0m\u001b[0;34m)\u001b[0m\u001b[0;34m\u001b[0m\u001b[0;34m\u001b[0m\u001b[0m\n\u001b[0m",
      "\u001b[0;32m<ipython-input-57-1190d57398c8>\u001b[0m in \u001b[0;36mmergeSort\u001b[0;34m(alist)\u001b[0m\n\u001b[1;32m     19\u001b[0m         \u001b[0mrighthalf\u001b[0m \u001b[0;34m=\u001b[0m \u001b[0malist\u001b[0m\u001b[0;34m[\u001b[0m\u001b[0mmid\u001b[0m\u001b[0;34m:\u001b[0m\u001b[0;34m]\u001b[0m\u001b[0;34m\u001b[0m\u001b[0;34m\u001b[0m\u001b[0m\n\u001b[1;32m     20\u001b[0m \u001b[0;34m\u001b[0m\u001b[0m\n\u001b[0;32m---> 21\u001b[0;31m         \u001b[0mmergeSort\u001b[0m\u001b[0;34m(\u001b[0m\u001b[0mlefthalf\u001b[0m\u001b[0;34m)\u001b[0m\u001b[0;34m\u001b[0m\u001b[0;34m\u001b[0m\u001b[0m\n\u001b[0m\u001b[1;32m     22\u001b[0m         \u001b[0mmergeSort\u001b[0m\u001b[0;34m(\u001b[0m\u001b[0mrighthalf\u001b[0m\u001b[0;34m)\u001b[0m\u001b[0;34m\u001b[0m\u001b[0;34m\u001b[0m\u001b[0m\n\u001b[1;32m     23\u001b[0m \u001b[0;34m\u001b[0m\u001b[0m\n",
      "\u001b[0;32m<ipython-input-57-1190d57398c8>\u001b[0m in \u001b[0;36mmergeSort\u001b[0;34m(alist)\u001b[0m\n\u001b[1;32m     19\u001b[0m         \u001b[0mrighthalf\u001b[0m \u001b[0;34m=\u001b[0m \u001b[0malist\u001b[0m\u001b[0;34m[\u001b[0m\u001b[0mmid\u001b[0m\u001b[0;34m:\u001b[0m\u001b[0;34m]\u001b[0m\u001b[0;34m\u001b[0m\u001b[0;34m\u001b[0m\u001b[0m\n\u001b[1;32m     20\u001b[0m \u001b[0;34m\u001b[0m\u001b[0m\n\u001b[0;32m---> 21\u001b[0;31m         \u001b[0mmergeSort\u001b[0m\u001b[0;34m(\u001b[0m\u001b[0mlefthalf\u001b[0m\u001b[0;34m)\u001b[0m\u001b[0;34m\u001b[0m\u001b[0;34m\u001b[0m\u001b[0m\n\u001b[0m\u001b[1;32m     22\u001b[0m         \u001b[0mmergeSort\u001b[0m\u001b[0;34m(\u001b[0m\u001b[0mrighthalf\u001b[0m\u001b[0;34m)\u001b[0m\u001b[0;34m\u001b[0m\u001b[0;34m\u001b[0m\u001b[0m\n\u001b[1;32m     23\u001b[0m \u001b[0;34m\u001b[0m\u001b[0m\n",
      "\u001b[0;32m<ipython-input-57-1190d57398c8>\u001b[0m in \u001b[0;36mmergeSort\u001b[0;34m(alist)\u001b[0m\n\u001b[1;32m     28\u001b[0m \u001b[0;34m\u001b[0m\u001b[0m\n\u001b[1;32m     29\u001b[0m         \u001b[0;31m# Step 2: Compare the lefthalf and righthalf\u001b[0m\u001b[0;34m\u001b[0m\u001b[0;34m\u001b[0m\u001b[0;34m\u001b[0m\u001b[0m\n\u001b[0;32m---> 30\u001b[0;31m     \u001b[0;32mwhile\u001b[0m \u001b[0mi\u001b[0m \u001b[0;34m<\u001b[0m \u001b[0mlen\u001b[0m\u001b[0;34m(\u001b[0m\u001b[0mlefthalf\u001b[0m\u001b[0;34m)\u001b[0m \u001b[0;32mand\u001b[0m \u001b[0mj\u001b[0m \u001b[0;34m<\u001b[0m \u001b[0mlen\u001b[0m\u001b[0;34m(\u001b[0m\u001b[0mrighthalf\u001b[0m\u001b[0;34m)\u001b[0m\u001b[0;34m:\u001b[0m\u001b[0;34m\u001b[0m\u001b[0;34m\u001b[0m\u001b[0m\n\u001b[0m\u001b[1;32m     31\u001b[0m         \u001b[0;32mif\u001b[0m \u001b[0mlefthalf\u001b[0m\u001b[0;34m[\u001b[0m\u001b[0mi\u001b[0m\u001b[0;34m]\u001b[0m \u001b[0;34m<\u001b[0m \u001b[0mrighthalf\u001b[0m\u001b[0;34m[\u001b[0m\u001b[0mj\u001b[0m\u001b[0;34m]\u001b[0m\u001b[0;34m:\u001b[0m\u001b[0;34m\u001b[0m\u001b[0;34m\u001b[0m\u001b[0m\n\u001b[1;32m     32\u001b[0m             \u001b[0malist\u001b[0m\u001b[0;34m[\u001b[0m\u001b[0mk\u001b[0m\u001b[0;34m]\u001b[0m \u001b[0;34m=\u001b[0m \u001b[0mlefthalf\u001b[0m\u001b[0;34m[\u001b[0m\u001b[0mi\u001b[0m\u001b[0;34m]\u001b[0m\u001b[0;34m\u001b[0m\u001b[0;34m\u001b[0m\u001b[0m\n",
      "\u001b[0;31mUnboundLocalError\u001b[0m: local variable 'i' referenced before assignment"
     ]
    }
   ],
   "source": [
    "# Step 1: Split everything into it's own group\n",
    "# Step 2: From left to right merge two groups together\n",
    "# Step 3: While merging, place each itemin the correct position\n",
    "# Step 4: Continue Steps 3-4 until one group is left\n",
    "from random import randint\n",
    "\n",
    "#used to generate a random list of 5 numbers from 0 to 20\n",
    "nums = [randint(0,20) for i in range (5)]\n",
    "\n",
    "#write merge sort below\n",
    "\n",
    "\n",
    "def mergeSort(alist):\n",
    "    print(\"Splitting...\", alist)\n",
    "    # Step 1: Divide and Conquer - Divide the list into equal halves until both halves have a length of 1\n",
    "    if len(alist) > 1:\n",
    "        mid = len(alist) // 2\n",
    "        lefthalf= alist[:mid]\n",
    "        righthalf = alist[mid:]\n",
    "        \n",
    "        mergeSort(lefthalf)\n",
    "        mergeSort(righthalf)\n",
    "        \n",
    "        # index pointers for our list\n",
    "        i = 0\n",
    "        j = 0\n",
    "        k = 0\n",
    "        \n",
    "        # Step 2: Compare the lefthalf and righthalf\n",
    "    while i < len(lefthalf) and j < len(righthalf):\n",
    "        if lefthalf[i] < righthalf[j]:\n",
    "            alist[k] = lefthalf[i]\n",
    "            i = i + 1\n",
    "                \n",
    "    else:\n",
    "        alist[k] = righthalf[j]\n",
    "        j = j + 1\n",
    "        k = k + 1\n",
    "            \n",
    "    while i < len(lefthalf):\n",
    "        alist[k] = lefthalf[i]\n",
    "        i = i +1\n",
    "        k = k +1\n",
    "            \n",
    "    while j < len(righthalf):\n",
    "        alist[k] = righthalf[j]\n",
    "        j = j + 1\n",
    "        k = k + 1\n",
    "                \n",
    "    print(\"Merging:\", alist)\n",
    "    return alist\n",
    "\n",
    "mergeSort(nums)"
   ]
  },
  {
   "cell_type": "markdown",
   "metadata": {},
   "source": [
    "# Binary Search\n",
    "\n",
    "The Binary Search algorithm works by finding the number in the middle of a given array and comparing it to the target. Given that the array is sorted\n",
    "\n",
    "* The worst case run time for this algorithm is `O(log(n))`"
   ]
  },
  {
   "cell_type": "code",
   "execution_count": 31,
   "metadata": {},
   "outputs": [
    {
     "data": {
      "text/plain": [
       "'The index is...2'"
      ]
     },
     "execution_count": 31,
     "metadata": {},
     "output_type": "execute_result"
    }
   ],
   "source": [
    "def binarySearchHelperFunc(array,target,left,right):\n",
    "    while left <= right:\n",
    "        middle = (left + right) // 2\n",
    "        potentialMatch = array[middle]\n",
    "        if target == potentialMatch:\n",
    "            return f\"The index is...{middle}\"\n",
    "        elif target < potentialMatch:\n",
    "            right = middle -1\n",
    "        else:\n",
    "            left = middle + 1\n",
    "    return -1\n",
    "        \n",
    "def binarySearch(array,target):\n",
    "    return binarySearchHelperFunc(array,target,0, len(array) - 1)\n",
    "\n",
    "binarySearch([1,5,23,111], 23)\n",
    "        "
   ]
  },
  {
   "cell_type": "markdown",
   "metadata": {},
   "source": [
    "# Exercises"
   ]
  },
  {
   "cell_type": "markdown",
   "metadata": {},
   "source": [
    "### Exercise #1 <br>\n",
    "<p>Reverse the list below in-place using an in-place algorithm.<br>For extra credit: Reverse the strings at the same time.</p>"
   ]
  },
  {
   "cell_type": "code",
   "execution_count": 40,
   "metadata": {},
   "outputs": [
    {
     "name": "stdout",
     "output_type": "stream",
     "text": [
      "['this', 'is', 'a', 'sentence', '.']\n",
      "['.', 'sentence', 'a', 'is', 'this']\n"
     ]
    }
   ],
   "source": [
    "# words = ['this' , 'is', 'a', 'sentence', '.']\n",
    "\n",
    "\n",
    "def swap(glist,u,w,x,y,z):\n",
    "    glist[u], glist[w],glist[x], glist[y], glist[z] = glist[y], glist[x],glist[w], glist[u],glist[z]\n",
    "    return glist\n",
    "\n",
    "words = ['this' , 'is', 'a', 'sentence', '.']\n",
    "print(words)\n",
    "\n",
    "swap(words, 0,1,3,4,2)\n",
    "\n",
    "print(words)\n"
   ]
  },
  {
   "cell_type": "markdown",
   "metadata": {},
   "source": [
    "### Exercise #2 <br>\n",
    "<p>Create a function that counts how many distinct words are in the string below, then outputs a dictionary with the words as the key and the value as the amount of times that word appears in the string.<br>Should output:<br>{'a': 5,<br>\n",
    " 'abstract': 1,<br>\n",
    " 'an': 3,<br>\n",
    " 'array': 2, ... etc...</p>"
   ]
  },
  {
   "cell_type": "code",
   "execution_count": 39,
   "metadata": {},
   "outputs": [
    {
     "data": {
      "text/plain": [
       "[('A', 1),\n",
       " ('In', 1),\n",
       " ('a', 4),\n",
       " ('abstract', 1),\n",
       " ('an', 3),\n",
       " ('array', 2),\n",
       " ('associative', 1),\n",
       " ('be', 1),\n",
       " ('buckets', 1),\n",
       " ('can', 2),\n",
       " ('compute', 1),\n",
       " ('computing,', 1),\n",
       " ('data', 2),\n",
       " ('desired', 1),\n",
       " ('found', 1),\n",
       " ('from', 1),\n",
       " ('function', 1),\n",
       " ('hash', 4),\n",
       " ('implements', 1),\n",
       " ('index', 1),\n",
       " ('into', 1),\n",
       " ('is', 1),\n",
       " ('keys', 1),\n",
       " ('map', 2),\n",
       " ('of', 1),\n",
       " ('or', 1),\n",
       " ('slots', 1),\n",
       " ('structure', 2),\n",
       " ('table', 2),\n",
       " ('that', 1),\n",
       " ('the', 1),\n",
       " ('to', 2),\n",
       " ('type,', 1),\n",
       " ('uses', 1),\n",
       " ('value', 1),\n",
       " ('values.', 1),\n",
       " ('which', 2)]"
      ]
     },
     "execution_count": 39,
     "metadata": {},
     "output_type": "execute_result"
    }
   ],
   "source": [
    "a_text = 'In computing, a hash table hash map is a data structure which implements an associative array abstract data type, a structure that can map keys to values. A hash table uses a hash function to compute an index into an array of buckets or slots from which the desired value can be found'\n",
    "\n",
    "def countFunc(a_text):  \n",
    "    dic = {}  \n",
    "    for item in a_text.split():  \n",
    "        if item in dic:  \n",
    "            dic[item] += 1  \n",
    "        else:  \n",
    "            dic[item] = 1  \n",
    "\n",
    "    return sorted(dic.items())\n",
    "\n",
    "countFunc(a_text)"
   ]
  },
  {
   "cell_type": "markdown",
   "metadata": {},
   "source": [
    "## Exercise #3\n",
    "\n",
    "Write a program to implement a Linear Search Algorithm. Also in a comment, write the Time Complexity of the following algorithm.\n",
    "\n",
    "#### Hint: Linear Searching will require searching a list for a given number. "
   ]
  },
  {
   "cell_type": "code",
   "execution_count": 59,
   "metadata": {},
   "outputs": [
    {
     "data": {
      "text/plain": [
       "True"
      ]
     },
     "execution_count": 59,
     "metadata": {},
     "output_type": "execute_result"
    }
   ],
   "source": [
    "nums_list = [10,23,45,70,11,15]\n",
    "target = 70\n",
    "\n",
    "def linearSearch(nums_list, target):\n",
    "    i = 0\n",
    "    \n",
    "    while i< len(nums_list):\n",
    "        if nums_list[i] == target:\n",
    "            return True\n",
    "        i = i + 1\n",
    "        \n",
    "    return False\n",
    "\n",
    "linearSearch(nums_list, target)\n"
   ]
  }
 ],
 "metadata": {
  "kernelspec": {
   "display_name": "Python 3",
   "language": "python",
   "name": "python3"
  },
  "language_info": {
   "codemirror_mode": {
    "name": "ipython",
    "version": 3
   },
   "file_extension": ".py",
   "mimetype": "text/x-python",
   "name": "python",
   "nbconvert_exporter": "python",
   "pygments_lexer": "ipython3",
   "version": "3.7.6"
  }
 },
 "nbformat": 4,
 "nbformat_minor": 2
}
